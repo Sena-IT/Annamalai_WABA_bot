{
 "cells": [
  {
   "cell_type": "code",
   "execution_count": 1,
   "metadata": {},
   "outputs": [
    {
     "name": "stdout",
     "output_type": "stream",
     "text": [
      "Collecting psycopg2\n",
      "  Obtaining dependency information for psycopg2 from https://files.pythonhosted.org/packages/33/39/5a9a229bb5414abeb86e33b8fc8143ab0aecce5a7f698a53e31367d30caa/psycopg2-2.9.10-cp311-cp311-win_amd64.whl.metadata\n",
      "  Using cached psycopg2-2.9.10-cp311-cp311-win_amd64.whl.metadata (5.0 kB)\n",
      "Using cached psycopg2-2.9.10-cp311-cp311-win_amd64.whl (1.2 MB)\n",
      "Installing collected packages: psycopg2\n",
      "Successfully installed psycopg2-2.9.10\n",
      "Note: you may need to restart the kernel to use updated packages.\n"
     ]
    },
    {
     "name": "stderr",
     "output_type": "stream",
     "text": [
      "\n",
      "[notice] A new release of pip is available: 23.2.1 -> 25.0.1\n",
      "[notice] To update, run: python.exe -m pip install --upgrade pip\n"
     ]
    }
   ],
   "source": [
    "pip install psycopg2"
   ]
  },
  {
   "cell_type": "code",
   "execution_count": 4,
   "metadata": {},
   "outputs": [],
   "source": [
    "DB_HOST='localhost'\n",
    "DB_PORT='5432'\n",
    "DB_NAME='annamalai_db'\n",
    "DB_USER='postgres'\n",
    "DB_PASSWORD='1234567890'"
   ]
  },
  {
   "cell_type": "code",
   "execution_count": 16,
   "metadata": {},
   "outputs": [],
   "source": [
    "   \n",
    "import psycopg2\n",
    "import os\n",
    "db_conn = psycopg2.connect(\n",
    "    host=DB_HOST,\n",
    "    port=DB_PORT,\n",
    "    database=DB_NAME,\n",
    "    user=DB_USER,\n",
    "    password=DB_PASSWORD\n",
    ")"
   ]
  },
  {
   "cell_type": "code",
   "execution_count": 17,
   "metadata": {},
   "outputs": [],
   "source": [
    "def get_client_reminders_gstin(gstin):\n",
    "    \"\"\"Fetch client reminders for a specific GSTIN.\"\"\"\n",
    "\n",
    "    query = \"\"\"\n",
    "        SELECT c.client_id, c.phone_number, rs.sub_reminders, rs.parent_reminder\n",
    "        FROM clients c\n",
    "        JOIN recurring_service rs ON c.client_id = rs.client_id\n",
    "        WHERE c.gstin = %s\n",
    "    \"\"\"\n",
    "\n",
    "    try:\n",
    "        with db_conn.cursor() as cursor:\n",
    "            cursor.execute(query, (gstin,))  # Pass parameters as a tuple\n",
    "            results = cursor.fetchall()\n",
    "            return results  # Returns a list of tuples\n",
    "\n",
    "    except psycopg2.Error as e:\n",
    "        db_conn.rollback()  # Rollback the transaction to clear the error state\n",
    "        print(f\"Database error: {e}\")\n",
    "        return []\n",
    "    \n",
    "    finally:\n",
    "        db_conn.close()"
   ]
  },
  {
   "cell_type": "code",
   "execution_count": 18,
   "metadata": {},
   "outputs": [
    {
     "data": {
      "text/plain": [
       "[(24,\n",
       "  '919943531228',\n",
       "  [{'sales_invoice': True,\n",
       "    'bank_statement': False,\n",
       "    'purchase_invoice': False}],\n",
       "  'monthly')]"
      ]
     },
     "execution_count": 18,
     "metadata": {},
     "output_type": "execute_result"
    }
   ],
   "source": [
    "get_client_reminders_gstin('22AAAAA0000A1Z5')"
   ]
  },
  {
   "cell_type": "code",
   "execution_count": null,
   "metadata": {},
   "outputs": [],
   "source": []
  }
 ],
 "metadata": {
  "kernelspec": {
   "display_name": "Python 3",
   "language": "python",
   "name": "python3"
  },
  "language_info": {
   "codemirror_mode": {
    "name": "ipython",
    "version": 3
   },
   "file_extension": ".py",
   "mimetype": "text/x-python",
   "name": "python",
   "nbconvert_exporter": "python",
   "pygments_lexer": "ipython3",
   "version": "3.11.7"
  }
 },
 "nbformat": 4,
 "nbformat_minor": 2
}
